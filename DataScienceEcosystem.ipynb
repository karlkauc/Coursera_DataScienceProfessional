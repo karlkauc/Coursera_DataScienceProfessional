{
 "cells": [
  {
   "cell_type": "markdown",
   "id": "9e99d405-e086-4991-80f2-137428e456e2",
   "metadata": {},
   "source": [
    "## Data Science Tools and Ecosystem"
   ]
  },
  {
   "cell_type": "markdown",
   "id": "9d9cdb32-fd04-4a2d-8295-dec40b54aef2",
   "metadata": {},
   "source": [
    "In this notebook, Data Science Tools and Ecosystem are summarized."
   ]
  },
  {
   "cell_type": "markdown",
   "id": "f5ee9a9f-1a37-41e2-ac91-065c29f0ea98",
   "metadata": {},
   "source": [
    "Some of the popular languages that Data Scientists use are:\n",
    "1. Python\n",
    "2. R\n",
    "3. Scala"
   ]
  },
  {
   "cell_type": "markdown",
   "id": "be04e59f-ce8e-4971-b037-c68d4bf9c66b",
   "metadata": {},
   "source": [
    "Some of the commonly used libraries used by Data Scientists include:\n",
    "1. NumPy\n",
    "2. TensorFlow\n",
    "3. Pandas"
   ]
  },
  {
   "cell_type": "markdown",
   "id": "0e1a2df5-9ac0-4f5a-82f4-c61b2f8df6ad",
   "metadata": {},
   "source": [
    "| Data Science Tools | \n",
    "| -------- | \n",
    "| Jupyter Notebook  | \n",
    "| RStudio | \n",
    "| Visual Studio Code    | "
   ]
  },
  {
   "cell_type": "markdown",
   "id": "9f4d779f-0ce3-434e-b0e2-c0c0108bba70",
   "metadata": {},
   "source": [
    "#### Below are a few examples of evaluating arithmetic expressions in Python"
   ]
  },
  {
   "cell_type": "code",
   "execution_count": 3,
   "id": "2c80bfdb-479f-48a3-837c-d9f2970e21ae",
   "metadata": {},
   "outputs": [
    {
     "data": {
      "text/plain": [
       "17"
      ]
     },
     "execution_count": 3,
     "metadata": {},
     "output_type": "execute_result"
    }
   ],
   "source": [
    "#This a simple arithmetic expression to mutiply then add integers\n",
    "(3*4)+5"
   ]
  },
  {
   "cell_type": "code",
   "execution_count": 4,
   "id": "2e71ec75-e31a-4139-bf28-0e0d03e03332",
   "metadata": {},
   "outputs": [
    {
     "data": {
      "text/plain": [
       "3.3333333333333335"
      ]
     },
     "execution_count": 4,
     "metadata": {},
     "output_type": "execute_result"
    }
   ],
   "source": [
    "#This will convert 200 minutes to hours by diving by 60\n",
    "(200/60)"
   ]
  },
  {
   "cell_type": "markdown",
   "id": "bb17914e-3a78-467c-879a-a09b95d1454a",
   "metadata": {},
   "source": [
    "*Objectives:*\n",
    "* List popular languages for Data Science\n",
    "* create basic markdown cells\n",
    "* create table with markdown\n",
    "* basic math calculation with python"
   ]
  },
  {
   "cell_type": "markdown",
   "id": "0d01c031-dde0-49bb-9a9b-fae9371aef4f",
   "metadata": {},
   "source": [
    "## Author\n",
    "Karl Kauc"
   ]
  },
  {
   "cell_type": "code",
   "execution_count": null,
   "id": "bce57a88-e4e0-431a-9f91-556515dba1c7",
   "metadata": {},
   "outputs": [],
   "source": []
  }
 ],
 "metadata": {
  "kernelspec": {
   "display_name": "Python 3 (ipykernel)",
   "language": "python",
   "name": "python3"
  },
  "language_info": {
   "codemirror_mode": {
    "name": "ipython",
    "version": 3
   },
   "file_extension": ".py",
   "mimetype": "text/x-python",
   "name": "python",
   "nbconvert_exporter": "python",
   "pygments_lexer": "ipython3",
   "version": "3.11.9"
  }
 },
 "nbformat": 4,
 "nbformat_minor": 5
}
